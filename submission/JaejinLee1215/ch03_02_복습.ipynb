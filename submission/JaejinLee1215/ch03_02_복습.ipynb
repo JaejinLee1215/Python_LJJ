{
  "nbformat": 4,
  "nbformat_minor": 0,
  "metadata": {
    "colab": {
      "provenance": [],
      "authorship_tag": "ABX9TyPQ07Ku3wOMiWJh1BNB8URD",
      "include_colab_link": true
    },
    "kernelspec": {
      "name": "python3",
      "display_name": "Python 3"
    },
    "language_info": {
      "name": "python"
    }
  },
  "cells": [
    {
      "cell_type": "markdown",
      "metadata": {
        "id": "view-in-github",
        "colab_type": "text"
      },
      "source": [
        "<a href=\"https://colab.research.google.com/github/JaejinLee1215/Python_LJJ/blob/main/submission/JaejinLee1215/ch03_02_%EB%B3%B5%EC%8A%B5.ipynb\" target=\"_parent\"><img src=\"https://colab.research.google.com/assets/colab-badge.svg\" alt=\"Open In Colab\"/></a>"
      ]
    },
    {
      "cell_type": "markdown",
      "source": [
        "# 클래스 (Class : Classification)"
      ],
      "metadata": {
        "id": "mLGKvUspkxuS"
      }
    },
    {
      "cell_type": "code",
      "source": [
        "class Teacher: # class 클래스이름 :\n",
        "    def __init__(self): # def __init__(self): -> 생성자\n",
        "        self.name = \"이재진\""
      ],
      "metadata": {
        "id": "xBgVLP5mk5Hy"
      },
      "execution_count": null,
      "outputs": []
    },
    {
      "cell_type": "code",
      "source": [
        "lee = Teacher() # 클래스() : 해당 클래스를 기반으로 하는 인스턴스(객체)를 생성해주겠다.\n",
        "# 클래스 : 특정한 객체를 만들 수 있는 설계도\n",
        "# 인스턴스 : 클래스로 만들어진 객체\n",
        "# 객체 : 특정한 기능이나 값들의 묶음\n",
        "\n",
        "lee"
      ],
      "metadata": {
        "colab": {
          "base_uri": "https://localhost:8080/"
        },
        "id": "qd2WhOy6lkFM",
        "outputId": "0a358688-c672-46a6-eee9-5020fa3ced2c"
      },
      "execution_count": null,
      "outputs": [
        {
          "output_type": "execute_result",
          "data": {
            "text/plain": [
              "<__main__.Teacher at 0x7f16a6e52670>"
            ]
          },
          "metadata": {},
          "execution_count": 3
        }
      ]
    },
    {
      "cell_type": "code",
      "source": [
        "lee.name # 인스턴스의 속성"
      ],
      "metadata": {
        "colab": {
          "base_uri": "https://localhost:8080/",
          "height": 35
        },
        "id": "ycF5I2iAl7UA",
        "outputId": "3319510e-1de0-4203-c5ba-cbd48b1c97c1"
      },
      "execution_count": null,
      "outputs": [
        {
          "output_type": "execute_result",
          "data": {
            "text/plain": [
              "'이재진'"
            ],
            "application/vnd.google.colaboratory.intrinsic+json": {
              "type": "string"
            }
          },
          "metadata": {},
          "execution_count": 4
        }
      ]
    },
    {
      "cell_type": "code",
      "source": [
        "class Teacher: # class 클래스이름 :\n",
        "    def __init__(self): # def __init__(self): -> 생성자\n",
        "        self.name = \"이재진\"\n",
        "\n",
        "    # 클래스에 속한 함수(기능) ->  메소드(method)\n",
        "    def lesson(self): # def 메소드이름(self)\n",
        "        print(f\"수업을 시작하겠습니다!\")"
      ],
      "metadata": {
        "id": "xgP8G5PLmB-q"
      },
      "execution_count": null,
      "outputs": []
    },
    {
      "cell_type": "code",
      "source": [
        "lee = Teacher()\n",
        "lee.lesson() # 인스턴스.메소드명() -> 호출하고 실행"
      ],
      "metadata": {
        "colab": {
          "base_uri": "https://localhost:8080/"
        },
        "id": "fREcEdJnmaB8",
        "outputId": "33fc0ad0-e717-4326-a08c-f914099706c7"
      },
      "execution_count": null,
      "outputs": [
        {
          "output_type": "stream",
          "name": "stdout",
          "text": [
            "수업을 시작하겠습니다!\n"
          ]
        }
      ]
    },
    {
      "cell_type": "code",
      "source": [
        "class Teacher: # class 클래스이름 :\n",
        "    def __init__(self, name): # def __init__(self, 매개변수 - parameter): 생성자 <- 인자(arument) (외부)\n",
        "        # self.name = \"이재진\"\n",
        "        self.name = name\n",
        "\n",
        "    # 클래스에 속한 함수(기능) ->  메소드(method)\n",
        "    def lesson(self, time, *args, comment=\"뭘 하면 좋을까요\", **kwargs): # def 메소드이름(self)\n",
        "        \n",
        "        # 자기소개를 한다(인스턴스->name)\n",
        "        print(f\"제 이름은 {self.name} 입니다.\")\n",
        "        # 수업 시간을 알려준다 (매개변수->time)\n",
        "        print(f\"오늘의 수업시간은 {time:.2f} 시간입니다.\") # 실수로 소수점 둘째자리까지 표현\n",
        "        # 수업 과목 목록을 돌려준다. (args -> for 반복)\n",
        "        print(f\"오늘의 수업 과목은 \") \n",
        "        # for v in args: # *args -> 튜플 -> 시퀀스 -> for로 반복 가능\n",
        "        for i, v in enumerate(args): # *args -> 튜플 -> 시퀀스 -> for로 반복 가능\n",
        "        # enumerate : 시퀀스형 객체를 '인덱스, 값' 형태의 튜플로 원소들을 바꿔줌\n",
        "        # 각각의 요소(element)를 v라는 변수 이름으로 받겠다\n",
        "        # v는 루프가 한 번 돌때마다 순서대로 새로운 요소 값을 받는다.\n",
        "            print(i, v)\n",
        "        \n",
        "        print(\"입니다\")\n",
        "        print(\"수업을 시작하겠습니다!\")\n",
        "        print(comment)\n",
        "        \n",
        "        # kwargs -> 수강생 이름, 질문\n",
        "        for k, v in kwargs.items():\n",
        "            print(f\"{k}님이 질문하셨네요\")\n",
        "            print(f\"{v}에 대해서 답해드릴께요\")\n",
        "            print(\"잘 모르겠어요\")"
      ],
      "metadata": {
        "id": "nzUcezremdtS"
      },
      "execution_count": null,
      "outputs": []
    },
    {
      "cell_type": "code",
      "source": [
        "# lee = Teacher() # name -> name이라고 하는 매개변수를 입력안해서 오류\n",
        "lee = Teacher(\"이세돌\")\n",
        "print(lee.name)"
      ],
      "metadata": {
        "colab": {
          "base_uri": "https://localhost:8080/"
        },
        "id": "RX6Czo0ynR-v",
        "outputId": "3e1a17d9-96e9-4d67-d1cd-28fd8d59505f"
      },
      "execution_count": null,
      "outputs": [
        {
          "output_type": "stream",
          "name": "stdout",
          "text": [
            "이세돌\n"
          ]
        }
      ]
    },
    {
      "cell_type": "code",
      "source": [
        "lee.lesson() # 필수적인 argument인 time이 생략되어서"
      ],
      "metadata": {
        "colab": {
          "base_uri": "https://localhost:8080/",
          "height": 172
        },
        "id": "207KMY1hq8an",
        "outputId": "df8c5e6c-ec95-4035-9ab9-155df7d28b29"
      },
      "execution_count": null,
      "outputs": [
        {
          "output_type": "error",
          "ename": "TypeError",
          "evalue": "ignored",
          "traceback": [
            "\u001b[0;31m---------------------------------------------------------------------------\u001b[0m",
            "\u001b[0;31mTypeError\u001b[0m                                 Traceback (most recent call last)",
            "\u001b[0;32m<ipython-input-14-7150f62e1cb9>\u001b[0m in \u001b[0;36m<module>\u001b[0;34m\u001b[0m\n\u001b[0;32m----> 1\u001b[0;31m \u001b[0mlee\u001b[0m\u001b[0;34m.\u001b[0m\u001b[0mlesson\u001b[0m\u001b[0;34m(\u001b[0m\u001b[0;34m)\u001b[0m\u001b[0;34m\u001b[0m\u001b[0;34m\u001b[0m\u001b[0m\n\u001b[0m",
            "\u001b[0;31mTypeError\u001b[0m: lesson() missing 1 required positional argument: 'time'"
          ]
        }
      ]
    },
    {
      "cell_type": "code",
      "source": [
        "import math\n",
        "\n",
        "lee.lesson(math.pi)"
      ],
      "metadata": {
        "colab": {
          "base_uri": "https://localhost:8080/"
        },
        "id": "h9JtuL9urD5M",
        "outputId": "bd94a236-cb3d-4dc0-eaf3-c8bd4b3e01aa"
      },
      "execution_count": null,
      "outputs": [
        {
          "output_type": "stream",
          "name": "stdout",
          "text": [
            "제 이름은 이세돌 입니다.\n",
            "오늘의 수업시간은 3.14 시간입니다.\n",
            "오늘의 수업 과목은\n",
            "입니다\n",
            "수업을 시작하겠습니다!\n",
            "뭘 하면 좋을까요\n"
          ]
        }
      ]
    },
    {
      "cell_type": "code",
      "source": [
        "lee.lesson(math.pi, \"자바\", \"자바스크립트\", \"넘파이\")"
      ],
      "metadata": {
        "colab": {
          "base_uri": "https://localhost:8080/"
        },
        "id": "MsbkBobmrZsE",
        "outputId": "d9e1111f-e9d5-477c-f6b7-7a32721664f7"
      },
      "execution_count": null,
      "outputs": [
        {
          "output_type": "stream",
          "name": "stdout",
          "text": [
            "제 이름은 이세돌 입니다.\n",
            "오늘의 수업시간은 3.14 시간입니다.\n",
            "오늘의 수업 과목은\n",
            "0 자바\n",
            "1 자바스크립트\n",
            "2 넘파이\n",
            "입니다\n",
            "수업을 시작하겠습니다!\n",
            "뭘 하면 좋을까요\n"
          ]
        }
      ]
    },
    {
      "cell_type": "code",
      "source": [
        "lee.lesson(math.pi, \n",
        "           \"자바\", \n",
        "           \"자바스크립트\", \n",
        "           \"넘파이\",\n",
        "           comment = \"오늘은 기분이 참 좋네요!\",\n",
        "           john = \"오늘은 넘파이 배우는 날\",\n",
        "           james = \"주석 감사합니다.\",\n",
        "           kate = \"깃허브 싱크가 꼬였어요\")"
      ],
      "metadata": {
        "colab": {
          "base_uri": "https://localhost:8080/"
        },
        "id": "1wfwNII0sAFa",
        "outputId": "d2c7f582-69c0-47ce-d6d6-ad6ffe57f62c"
      },
      "execution_count": null,
      "outputs": [
        {
          "output_type": "stream",
          "name": "stdout",
          "text": [
            "제 이름은 이세돌 입니다.\n",
            "오늘의 수업시간은 3.14 시간입니다.\n",
            "오늘의 수업 과목은\n",
            "0 자바\n",
            "1 자바스크립트\n",
            "2 넘파이\n",
            "입니다\n",
            "수업을 시작하겠습니다!\n",
            "오늘은 기분이 참 좋네요!\n",
            "john님이 질문하셨네요\n",
            "오늘은 넘파이 배우는 날에 대해서 답해드릴께요\n",
            "잘 모르겠어요\n",
            "james님이 질문하셨네요\n",
            "주석 감사합니다.에 대해서 답해드릴께요\n",
            "잘 모르겠어요\n",
            "kate님이 질문하셨네요\n",
            "깃허브 싱크가 꼬였어요에 대해서 답해드릴께요\n",
            "잘 모르겠어요\n"
          ]
        }
      ]
    },
    {
      "cell_type": "code",
      "source": [
        "class Beer:\n",
        "    counter = 1 # 클래스들이 모두 공유\n",
        "    \n",
        "    def __init__(self):\n",
        "        print(f\"축하합니다! {Beer.counter} 호점을 개업했습니다.\")\n",
        "        Beer.counter += 1 # 1을 더해주고 그 값을 해당 변수에 다시 대입"
      ],
      "metadata": {
        "id": "CwGlUZJBvhUy"
      },
      "execution_count": null,
      "outputs": []
    },
    {
      "cell_type": "code",
      "source": [
        "s1 = Beer()\n",
        "s1.counter"
      ],
      "metadata": {
        "colab": {
          "base_uri": "https://localhost:8080/"
        },
        "id": "j4kkOibjwMB1",
        "outputId": "53e948f2-599b-4090-e617-c9d71d607a29"
      },
      "execution_count": null,
      "outputs": [
        {
          "output_type": "stream",
          "name": "stdout",
          "text": [
            "축하합니다! 1 호점을 개업했습니다.\n"
          ]
        },
        {
          "output_type": "execute_result",
          "data": {
            "text/plain": [
              "2"
            ]
          },
          "metadata": {},
          "execution_count": 38
        }
      ]
    },
    {
      "cell_type": "code",
      "source": [
        "s2 = Beer()\n",
        "s1.counter, s2.counter"
      ],
      "metadata": {
        "colab": {
          "base_uri": "https://localhost:8080/"
        },
        "id": "jqASV4FAwctT",
        "outputId": "20dac9f9-5aba-43e9-ed8a-72af8bfa4029"
      },
      "execution_count": null,
      "outputs": [
        {
          "output_type": "stream",
          "name": "stdout",
          "text": [
            "축하합니다! 2 호점을 개업했습니다.\n"
          ]
        },
        {
          "output_type": "execute_result",
          "data": {
            "text/plain": [
              "(3, 3)"
            ]
          },
          "metadata": {},
          "execution_count": 39
        }
      ]
    },
    {
      "cell_type": "code",
      "source": [
        "# 클래스 속성\n",
        "# 클래스 -> 인스턴스 -> 개별 인스턴스 속성\n",
        "\n",
        "class Beer:\n",
        "    counter = 1 # 클래스들이 모두 공유\n",
        "    \n",
        "    def __init__(self):\n",
        "        print(f\"축하합니다! {self.counter} 호점을 개업했습니다.\")\n",
        "        self.counter += 1 # 1을 더해주고 그 값을 해당 변수에 다시 대입"
      ],
      "metadata": {
        "id": "tVU3l8rFwgLY"
      },
      "execution_count": null,
      "outputs": []
    },
    {
      "cell_type": "code",
      "source": [
        "s1 = Beer()\n",
        "s1.counter"
      ],
      "metadata": {
        "colab": {
          "base_uri": "https://localhost:8080/"
        },
        "id": "eubPhUHYwmPy",
        "outputId": "3e3469f4-8966-4e78-c32c-6dcade752d44"
      },
      "execution_count": null,
      "outputs": [
        {
          "output_type": "stream",
          "name": "stdout",
          "text": [
            "축하합니다! 1 호점을 개업했습니다.\n"
          ]
        },
        {
          "output_type": "execute_result",
          "data": {
            "text/plain": [
              "2"
            ]
          },
          "metadata": {},
          "execution_count": 44
        }
      ]
    },
    {
      "cell_type": "code",
      "source": [
        "s2 = Beer()\n",
        "s1.counter, s2.counter"
      ],
      "metadata": {
        "colab": {
          "base_uri": "https://localhost:8080/"
        },
        "id": "3JABPwvuwnjy",
        "outputId": "18f3d7a8-9317-494e-dec3-3ade4aef70be"
      },
      "execution_count": null,
      "outputs": [
        {
          "output_type": "stream",
          "name": "stdout",
          "text": [
            "축하합니다! 1 호점을 개업했습니다.\n"
          ]
        },
        {
          "output_type": "execute_result",
          "data": {
            "text/plain": [
              "(2, 2)"
            ]
          },
          "metadata": {},
          "execution_count": 45
        }
      ]
    },
    {
      "cell_type": "code",
      "source": [
        "class Beer:\n",
        "    counter = 1 # 클래스들이 모두 공유\n",
        "    \n",
        "    def __init__(self):\n",
        "        print(f\"축하합니다! {Beer.counter} 호점을 개업했습니다.\") # self로 지정해서 하면, 클래스간 공유 안함\n",
        "        self.my_counter = Beer.counter\n",
        "        Beer.counter += 1 # 1을 더해주고 그 값을 해당 변수에 다시 대입"
      ],
      "metadata": {
        "id": "2Pzp-WD_w35D"
      },
      "execution_count": null,
      "outputs": []
    },
    {
      "cell_type": "code",
      "source": [
        "s1 = Beer()\n",
        "s2 = Beer()\n",
        "s1.counter, s2.counter, s1.my_counter, s2.my_counter"
      ],
      "metadata": {
        "colab": {
          "base_uri": "https://localhost:8080/"
        },
        "id": "VKopQfqEw9pM",
        "outputId": "e597c06e-b033-4ad8-a419-0a222eb2acda"
      },
      "execution_count": null,
      "outputs": [
        {
          "output_type": "stream",
          "name": "stdout",
          "text": [
            "축하합니다! 1 호점을 개업했습니다.\n",
            "축하합니다! 2 호점을 개업했습니다.\n"
          ]
        },
        {
          "output_type": "execute_result",
          "data": {
            "text/plain": [
              "(3, 3, 1, 2)"
            ]
          },
          "metadata": {},
          "execution_count": 53
        }
      ]
    },
    {
      "cell_type": "code",
      "source": [
        "class BigBeer(Beer): # class 하위클래스(상위클래스):\n",
        "    pass"
      ],
      "metadata": {
        "id": "l4QKbWTNxy0C"
      },
      "execution_count": null,
      "outputs": []
    },
    {
      "cell_type": "code",
      "source": [
        "a1 = BigBeer()\n",
        "a1.counter, a1.my_counter"
      ],
      "metadata": {
        "colab": {
          "base_uri": "https://localhost:8080/"
        },
        "id": "ZMfICok7yB0_",
        "outputId": "118d2581-a5dd-4c7a-9882-392ec3009a4e"
      },
      "execution_count": null,
      "outputs": [
        {
          "output_type": "stream",
          "name": "stdout",
          "text": [
            "축하합니다! 3 호점을 개업했습니다.\n"
          ]
        },
        {
          "output_type": "execute_result",
          "data": {
            "text/plain": [
              "(4, 3)"
            ]
          },
          "metadata": {},
          "execution_count": 55
        }
      ]
    },
    {
      "cell_type": "code",
      "source": [
        "class BigBeer(Beer): # class 하위클래스(상위클래스):\n",
        "    def __init__(self, prize, visitor_count): # 덮어씌워서 다시 메소드를 작성하는 것 -> 메소드 오버라이딩\n",
        "        print(f\"{visitor_count}번째 손님에게 {prize}를 드립니다.\")"
      ],
      "metadata": {
        "id": "xPwbEpAoyQKb"
      },
      "execution_count": null,
      "outputs": []
    },
    {
      "cell_type": "code",
      "source": [
        "a1 = BigBeer(\"아이폰\", 100)\n",
        "a1.counter, a1.my_counter # 이전에 썼던 생성자는 무시하고 덮어씌워짐"
      ],
      "metadata": {
        "colab": {
          "base_uri": "https://localhost:8080/",
          "height": 209
        },
        "id": "vdrEkv9iyf-L",
        "outputId": "6c3f347b-a49a-4ca6-df64-7c7e4b7f13fc"
      },
      "execution_count": null,
      "outputs": [
        {
          "output_type": "stream",
          "name": "stdout",
          "text": [
            "100번째 손님에게 아이폰를 드립니다.\n"
          ]
        },
        {
          "output_type": "error",
          "ename": "AttributeError",
          "evalue": "ignored",
          "traceback": [
            "\u001b[0;31m---------------------------------------------------------------------------\u001b[0m",
            "\u001b[0;31mAttributeError\u001b[0m                            Traceback (most recent call last)",
            "\u001b[0;32m<ipython-input-57-96795d477b61>\u001b[0m in \u001b[0;36m<module>\u001b[0;34m\u001b[0m\n\u001b[1;32m      1\u001b[0m \u001b[0ma1\u001b[0m \u001b[0;34m=\u001b[0m \u001b[0mBigBeer\u001b[0m\u001b[0;34m(\u001b[0m\u001b[0;34m\"아이폰\"\u001b[0m\u001b[0;34m,\u001b[0m \u001b[0;36m100\u001b[0m\u001b[0;34m)\u001b[0m\u001b[0;34m\u001b[0m\u001b[0;34m\u001b[0m\u001b[0m\n\u001b[0;32m----> 2\u001b[0;31m \u001b[0ma1\u001b[0m\u001b[0;34m.\u001b[0m\u001b[0mcounter\u001b[0m\u001b[0;34m,\u001b[0m \u001b[0ma1\u001b[0m\u001b[0;34m.\u001b[0m\u001b[0mmy_counter\u001b[0m\u001b[0;34m\u001b[0m\u001b[0;34m\u001b[0m\u001b[0m\n\u001b[0m",
            "\u001b[0;31mAttributeError\u001b[0m: 'BigBeer' object has no attribute 'my_counter'"
          ]
        }
      ]
    },
    {
      "cell_type": "code",
      "source": [
        "class BigBeer(Beer): # class 하위클래스(상위클래스):\n",
        "    def __init__(self, prize, visitor_count): # 덮어씌워서 다시 메소드를 작성하는 것 -> 메소드 오버라이딩\n",
        "        # super(BigBeer, self).__init__()\n",
        "        super().__init__() # super(본인클래스, self) : 자기 자신의 부모를 호출\n",
        "        print(f\"{visitor_count}번째 손님에게 {prize}를 드립니다.\")"
      ],
      "metadata": {
        "id": "nBbw4PulyxLq"
      },
      "execution_count": null,
      "outputs": []
    },
    {
      "cell_type": "code",
      "source": [
        "a1 = BigBeer(\"아이폰\", 100)\n",
        "a1.counter, a1.my_counter # 이전에 썼던 생성자는 무시하고 덮어씌워짐"
      ],
      "metadata": {
        "colab": {
          "base_uri": "https://localhost:8080/"
        },
        "id": "6EWBYdq9y_X0",
        "outputId": "2cd30b22-054d-4d79-c9ab-b6a870f55232"
      },
      "execution_count": null,
      "outputs": [
        {
          "output_type": "stream",
          "name": "stdout",
          "text": [
            "축하합니다! 4 호점을 개업했습니다.\n",
            "100번째 손님에게 아이폰를 드립니다.\n"
          ]
        },
        {
          "output_type": "execute_result",
          "data": {
            "text/plain": [
              "(5, 4)"
            ]
          },
          "metadata": {},
          "execution_count": 59
        }
      ]
    },
    {
      "cell_type": "code",
      "source": [
        "class Wine(BigBeer):\n",
        "    def __init__(self, msg):\n",
        "        super().__init__()\n",
        "        print(f\"행운의 포춘쿠키 : {msg}\")"
      ],
      "metadata": {
        "id": "91EHYql1zCxz"
      },
      "execution_count": null,
      "outputs": []
    },
    {
      "cell_type": "code",
      "source": [
        "a2 = Wine(\"주변 사람에게 잘 하세요\") # prize랑 visiotr_count가 없다\n",
        "a2.counter, a2.my_counter"
      ],
      "metadata": {
        "colab": {
          "base_uri": "https://localhost:8080/",
          "height": 299
        },
        "id": "Pm7tskBzza7f",
        "outputId": "27108fea-e353-456b-a0e1-335efadf9d15"
      },
      "execution_count": null,
      "outputs": [
        {
          "output_type": "error",
          "ename": "TypeError",
          "evalue": "ignored",
          "traceback": [
            "\u001b[0;31m---------------------------------------------------------------------------\u001b[0m",
            "\u001b[0;31mTypeError\u001b[0m                                 Traceback (most recent call last)",
            "\u001b[0;32m<ipython-input-61-8a0b2c8e0101>\u001b[0m in \u001b[0;36m<module>\u001b[0;34m\u001b[0m\n\u001b[0;32m----> 1\u001b[0;31m \u001b[0ma2\u001b[0m \u001b[0;34m=\u001b[0m \u001b[0mWine\u001b[0m\u001b[0;34m(\u001b[0m\u001b[0;34m\"주변 사람에게 잘 하세요\"\u001b[0m\u001b[0;34m)\u001b[0m\u001b[0;34m\u001b[0m\u001b[0;34m\u001b[0m\u001b[0m\n\u001b[0m\u001b[1;32m      2\u001b[0m \u001b[0ma2\u001b[0m\u001b[0;34m.\u001b[0m\u001b[0mcounter\u001b[0m\u001b[0;34m,\u001b[0m \u001b[0ma2\u001b[0m\u001b[0;34m.\u001b[0m\u001b[0mmy_counter\u001b[0m\u001b[0;34m\u001b[0m\u001b[0;34m\u001b[0m\u001b[0m\n",
            "\u001b[0;32m<ipython-input-60-0aa109a1c601>\u001b[0m in \u001b[0;36m__init__\u001b[0;34m(self, msg)\u001b[0m\n\u001b[1;32m      1\u001b[0m \u001b[0;32mclass\u001b[0m \u001b[0mWine\u001b[0m\u001b[0;34m(\u001b[0m\u001b[0mBigBeer\u001b[0m\u001b[0;34m)\u001b[0m\u001b[0;34m:\u001b[0m\u001b[0;34m\u001b[0m\u001b[0;34m\u001b[0m\u001b[0m\n\u001b[1;32m      2\u001b[0m     \u001b[0;32mdef\u001b[0m \u001b[0m__init__\u001b[0m\u001b[0;34m(\u001b[0m\u001b[0mself\u001b[0m\u001b[0;34m,\u001b[0m \u001b[0mmsg\u001b[0m\u001b[0;34m)\u001b[0m\u001b[0;34m:\u001b[0m\u001b[0;34m\u001b[0m\u001b[0;34m\u001b[0m\u001b[0m\n\u001b[0;32m----> 3\u001b[0;31m         \u001b[0msuper\u001b[0m\u001b[0;34m(\u001b[0m\u001b[0;34m)\u001b[0m\u001b[0;34m.\u001b[0m\u001b[0m__init__\u001b[0m\u001b[0;34m(\u001b[0m\u001b[0;34m)\u001b[0m\u001b[0;34m\u001b[0m\u001b[0;34m\u001b[0m\u001b[0m\n\u001b[0m\u001b[1;32m      4\u001b[0m         \u001b[0mprint\u001b[0m\u001b[0;34m(\u001b[0m\u001b[0;34mf\"행운의 포춘쿠키 : {msg}\"\u001b[0m\u001b[0;34m)\u001b[0m\u001b[0;34m\u001b[0m\u001b[0;34m\u001b[0m\u001b[0m\n",
            "\u001b[0;31mTypeError\u001b[0m: __init__() missing 2 required positional arguments: 'prize' and 'visitor_count'"
          ]
        }
      ]
    },
    {
      "cell_type": "code",
      "source": [
        "class Wine(BigBeer):\n",
        "    def __init__(self, msg):\n",
        "        super(BigBeer, self).__init__() # BigBeer이 부모 -> Beer를 호출\n",
        "        print(f\"행운의 포춘쿠키 : {msg}\")"
      ],
      "metadata": {
        "id": "ArV4HDeYznMT"
      },
      "execution_count": null,
      "outputs": []
    },
    {
      "cell_type": "code",
      "source": [
        "a2 = Wine(\"주변 사람에게 잘 하세요\")\n",
        "a2.counter, a2.my_counter"
      ],
      "metadata": {
        "colab": {
          "base_uri": "https://localhost:8080/"
        },
        "id": "kMYoSm8Wzrwh",
        "outputId": "4315be9d-24f1-4103-a734-a00eaeb195d9"
      },
      "execution_count": null,
      "outputs": [
        {
          "output_type": "stream",
          "name": "stdout",
          "text": [
            "축하합니다! 5 호점을 개업했습니다.\n",
            "행운의 포춘쿠키 : 주변 사람에게 잘 하세요\n"
          ]
        },
        {
          "output_type": "execute_result",
          "data": {
            "text/plain": [
              "(6, 5)"
            ]
          },
          "metadata": {},
          "execution_count": 70
        }
      ]
    }
  ]
}